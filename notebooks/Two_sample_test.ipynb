{
 "cells": [
  {
   "cell_type": "markdown",
   "id": "c5fd35b8-6808-477e-9618-926926e3d6ec",
   "metadata": {},
   "source": [
    "# Comparing two samples using `stambo`\n",
    "\n",
    "[![Binder](https://mybinder.org/badge_logo.svg)](https://mybinder.org/v2/gh/Oulu-IMEDS/stambo/main?labpath=notebooks%2FTwo_sample_test.ipynb)\n",
    "\n",
    "V1.1.3: © Aleksei Tiulpin, PhD, 2025\n",
    "\n",
    "There are many cases, when we develop models other than classification or regression, and we want to compute scores per datapoint, and then find their mean. We may often want to compare just two samples of measurements, and `stambo` allows to do this easily too.\n",
    "\n",
    "This example shows how to conduct a simple two-sample test. The example is synthetic, and we will just simply generate two Gaussian samples, and assess whether the mean of the second sample is greater than the mean of the first sample."
   ]
  },
  {
   "cell_type": "markdown",
   "id": "ff6e13ca-dd76-44cd-9085-674af7927c34",
   "metadata": {},
   "source": [
    "## Importing the libraries"
   ]
  },
  {
   "cell_type": "code",
   "execution_count": 1,
   "id": "f4da8f85-d04c-4232-b59d-fcb07025a9e7",
   "metadata": {},
   "outputs": [],
   "source": [
    "import numpy as np\n",
    "import stambo\n",
    "import matplotlib.pyplot as plt\n",
    "\n",
    "SEED=2024"
   ]
  },
  {
   "cell_type": "code",
   "execution_count": 2,
   "id": "61e4533b",
   "metadata": {},
   "outputs": [
    {
     "data": {
      "text/plain": [
       "'0.1.3'"
      ]
     },
     "execution_count": 2,
     "metadata": {},
     "output_type": "execute_result"
    }
   ],
   "source": [
    "stambo.__version__"
   ]
  },
  {
   "cell_type": "markdown",
   "id": "ccdab62b-1320-4e4e-8877-97077b537ad6",
   "metadata": {},
   "source": [
    "## Data generation"
   ]
  },
  {
   "cell_type": "code",
   "execution_count": 3,
   "id": "054ccde1-e5fd-415a-94c6-f537ad8fba10",
   "metadata": {},
   "outputs": [],
   "source": [
    "np.random.seed(SEED)\n",
    "n_samples = 100\n",
    "sample_1 = np.random.randn(n_samples)+0.5\n",
    "sample_2 = np.random.randn(n_samples)+0.7"
   ]
  },
  {
   "cell_type": "markdown",
   "id": "5d4b527f-6765-4fb9-a208-a478751069b8",
   "metadata": {},
   "source": [
    "## Sample comparison\n",
    "\n",
    "Note that when it comes to a two-sample test, `stambo` does not require the statistic of choice to be a machine learning metric that is a subclass of `stambo.metrics.Metric`."
   ]
  },
  {
   "cell_type": "code",
   "execution_count": 4,
   "id": "d29ac608-a618-4cfb-8547-509854ee4100",
   "metadata": {},
   "outputs": [
    {
     "name": "stderr",
     "output_type": "stream",
     "text": [
      "Bootstrapping:   0%|          | 0/10000 [00:00<?, ?it/s]"
     ]
    },
    {
     "name": "stderr",
     "output_type": "stream",
     "text": [
      "Bootstrapping: 100%|██████████| 10000/10000 [00:00<00:00, 59750.30it/s]\n"
     ]
    }
   ],
   "source": [
    "res = stambo.two_sample_test(sample_1, sample_2, statistics={\"Mean\": lambda x: x.mean()})"
   ]
  },
  {
   "cell_type": "markdown",
   "id": "cd22a7e2-47f3-4331-a881-9851325ae1f2",
   "metadata": {},
   "source": [
    "## LaTeX report"
   ]
  },
  {
   "cell_type": "code",
   "execution_count": 5,
   "id": "fdb0a272-f9fb-4b29-96d1-e28fb91d7103",
   "metadata": {},
   "outputs": [
    {
     "name": "stdout",
     "output_type": "stream",
     "text": [
      "% \\usepackage{booktabs} <-- do not for get to have this imported. \n",
      "\\begin{tabular}{ll} \\\\ \n",
      "\\toprule \n",
      "\\textbf{Model} & \\textbf{Mean} \\\\ \n",
      "\\midrule \n",
      "Sample 1 & $0.02$ [$0.98$-$0.53$] \\\\ \n",
      "Sample 2 & $0.34$ [$0.73$-$0.78$] \\\\ \n",
      "\\midrule\n",
      "$p$-value & $0.04$ \\\\ \n",
      "\\bottomrule\n",
      "\\end{tabular}\n"
     ]
    }
   ],
   "source": [
    "print(stambo.to_latex(res, m1_name=\"Sample 1\", m2_name=\"Sample 2\"))"
   ]
  },
  {
   "cell_type": "markdown",
   "id": "9926316d",
   "metadata": {},
   "source": [
    "## Grouped data\n",
    "\n",
    "A very common scenario we should consider is when data is grouped. For example, we have multiple datapoints from the same subjects. Below is the simulation code that generates synthetic data for case when we have multiple datapoints from the same subject. "
   ]
  },
  {
   "cell_type": "code",
   "execution_count": 10,
   "id": "95d81986",
   "metadata": {},
   "outputs": [],
   "source": [
    "# Example usage\n",
    "M = 10  # Number of subjects\n",
    "N = 50  # Total measurements\n",
    "dim = 1  # Dimensionality of each measurement\n",
    "\n",
    "mean_range = np.array((-10, 10))  # Each subject's mean is sampled from this range\n",
    "base_cov = 0.2 * np.ones((dim, dim)) + 0.8 * np.eye(dim)  # Example structured covariance\n",
    "\n",
    "res = 0\n",
    "n_measurements_per_subj = stambo.synthetic.generate_n_measurements(M, N, random=True, d_temp=2)\n",
    "\n",
    "# How many times to regenerate the dataset\n",
    "n_samples_cov = 1000\n",
    "for i in range(n_samples_cov):\n",
    "    data, subject_ids, means = stambo.synthetic.generate_subject_measurements(n_measurements_per_subj, mean_range, base_cov)\n",
    "    res += data @ data.T \n",
    "\n",
    "res /= n_samples_cov"
   ]
  },
  {
   "cell_type": "code",
   "execution_count": 16,
   "id": "23e578c9",
   "metadata": {},
   "outputs": [
    {
     "data": {
      "image/png": "[encoded data removed]",
      "text/plain": [
       "<Figure size 400x400 with 1 Axes>"
      ]
     },
     "metadata": {},
     "output_type": "display_data"
    },
    {
     "name": "stdout",
     "output_type": "stream",
     "text": [
      "Data for subject 0: 10\n",
      "Data for subject 1: 6\n",
      "Data for subject 2: 8\n",
      "Data for subject 3: 12\n",
      "Data for subject 4: 1\n",
      "Data for subject 5: 3\n",
      "Data for subject 6: 4\n",
      "Data for subject 7: 2\n",
      "Data for subject 8: 2\n",
      "Data for subject 9: 2\n"
     ]
    }
   ],
   "source": [
    "plt.figure(figsize=(4, 4))\n",
    "plt.imshow(res)\n",
    "plt.title(\"Subject-Level Covariance Structure\")\n",
    "plt.show()\n",
    "\n",
    "for s_id in range(M):\n",
    "    n_per_i = data[subject_ids == s_id].shape[0]\n",
    "    print(f\"Data for subject {s_id}: {n_per_i}\")"
   ]
  },
  {
   "cell_type": "code",
   "execution_count": null,
   "id": "706637bc",
   "metadata": {},
   "outputs": [],
   "source": []
  }
 ],
 "metadata": {
  "kernelspec": {
   "display_name": "stambo",
   "language": "python",
   "name": "python3"
  },
  "language_info": {
   "codemirror_mode": {
    "name": "ipython",
    "version": 3
   },
   "file_extension": ".py",
   "mimetype": "text/x-python",
   "name": "python",
   "nbconvert_exporter": "python",
   "pygments_lexer": "ipython3",
   "version": "3.12.8"
  }
 },
 "nbformat": 4,
 "nbformat_minor": 5
}
