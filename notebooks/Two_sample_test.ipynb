{
 "cells": [
  {
   "cell_type": "markdown",
   "id": "c5fd35b8-6808-477e-9618-926926e3d6ec",
   "metadata": {},
   "source": [
    "# Comparing two samples using `stambo`\n",
    "\n",
    "[![Binder](https://mybinder.org/badge_logo.svg)](https://mybinder.org/v2/gh/Oulu-IMEDS/stambo/main?labpath=notebooks%2FTwo_sample_test.ipynb)\n",
    "\n",
    "V1.1.4: © Aleksei Tiulpin, PhD, 2025\n",
    "\n",
    "There are many cases, when we develop models other than classification or regression, and we want to compute scores per datapoint, and then find their mean. We may often want to compare just two samples of measurements, and `stambo` allows to do this easily too.\n",
    "\n",
    "This example shows how to conduct a simple two-sample test. The example is synthetic, and we will just simply generate two Gaussian samples, and assess whether the mean of the second sample is greater than the mean of the first sample."
   ]
  },
  {
   "cell_type": "markdown",
   "id": "ff6e13ca-dd76-44cd-9085-674af7927c34",
   "metadata": {},
   "source": [
    "## Importing the libraries"
   ]
  },
  {
   "cell_type": "code",
   "execution_count": 1,
   "id": "f4da8f85-d04c-4232-b59d-fcb07025a9e7",
   "metadata": {},
   "outputs": [],
   "source": [
    "import numpy as np\n",
    "import stambo\n",
    "import matplotlib.pyplot as plt\n",
    "\n",
    "SEED=2025"
   ]
  },
  {
   "cell_type": "code",
   "execution_count": 2,
   "id": "61e4533b",
   "metadata": {},
   "outputs": [
    {
     "data": {
      "text/plain": [
       "'0.1.4'"
      ]
     },
     "execution_count": 2,
     "metadata": {},
     "output_type": "execute_result"
    }
   ],
   "source": [
    "stambo.__version__"
   ]
  },
  {
   "cell_type": "markdown",
   "id": "ccdab62b-1320-4e4e-8877-97077b537ad6",
   "metadata": {},
   "source": [
    "## Data generation"
   ]
  },
  {
   "cell_type": "code",
   "execution_count": 3,
   "id": "054ccde1-e5fd-415a-94c6-f537ad8fba10",
   "metadata": {},
   "outputs": [],
   "source": [
    "np.random.seed(SEED)\n",
    "n_samples = 50\n",
    "sample_1 = np.random.randn(n_samples)\n",
    "sample_2 = np.random.randn(n_samples)+0.7 # effect size is 0.7"
   ]
  },
  {
   "cell_type": "markdown",
   "id": "5d4b527f-6765-4fb9-a208-a478751069b8",
   "metadata": {},
   "source": [
    "## Sample comparison\n",
    "\n",
    "Note that when it comes to a two-sample test, `stambo` does not require the statistic of choice to be a machine learning metric that is a subclass of `stambo.metrics.Metric`.\n",
    "Note that we have a non-paired design here (a regular two-sample test), so, it needs to be specified."
   ]
  },
  {
   "cell_type": "code",
   "execution_count": 4,
   "id": "d29ac608-a618-4cfb-8547-509854ee4100",
   "metadata": {},
   "outputs": [
    {
     "name": "stderr",
     "output_type": "stream",
     "text": [
      "Bootstrapping: 100%|██████████| 10000/10000 [00:00<00:00, 55337.91it/s]\n"
     ]
    }
   ],
   "source": [
    "res = stambo.two_sample_test(sample_1, sample_2, statistics={\"Mean\": lambda x: x.mean()}, non_paired=True)"
   ]
  },
  {
   "cell_type": "code",
   "execution_count": 5,
   "id": "199be76d",
   "metadata": {},
   "outputs": [
    {
     "data": {
      "text/plain": [
       "{'Mean': array([ 0.18418158,  0.23771615, -0.12154188,  0.58512178,  0.08127468,\n",
       "        -0.16881557,  0.33611198,  0.31899082,  0.0732373 ,  0.56617054])}"
      ]
     },
     "execution_count": 5,
     "metadata": {},
     "output_type": "execute_result"
    }
   ],
   "source": [
    "res"
   ]
  },
  {
   "cell_type": "markdown",
   "id": "cd22a7e2-47f3-4331-a881-9851325ae1f2",
   "metadata": {},
   "source": [
    "## LaTeX report"
   ]
  },
  {
   "cell_type": "code",
   "execution_count": 6,
   "id": "fdb0a272-f9fb-4b29-96d1-e28fb91d7103",
   "metadata": {},
   "outputs": [
    {
     "name": "stdout",
     "output_type": "stream",
     "text": [
      "% \\usepackage{booktabs} <-- do not forget to have this imported. \n",
      "\\begin{tabular}{ll} \\\\ \n",
      "\\toprule \n",
      "\\textbf{Model} & \\textbf{Mean} \\\\ \n",
      "\\midrule \n",
      "Sample 1 & $0.08$ [$-0.17$-$0.34$] \\\\ \n",
      "Sample 2 & $0.32$ [$0.07$-$0.57$] \\\\ \n",
      "\\midrule\n",
      "Effect size & $0.24$ [$-0.12$-$0.59]$ \\\\ \n",
      "\\midrule\n",
      "$p$-value & $0.18$ \\\\ \n",
      "\\bottomrule\n",
      "\\end{tabular}\n"
     ]
    }
   ],
   "source": [
    "print(stambo.to_latex(res, m1_name=\"Control\", m2_name=\"Treated\"))"
   ]
  },
  {
   "cell_type": "markdown",
   "id": "f24dc764",
   "metadata": {},
   "source": [
    "This example shows that for the data at hand we did not have samples to reject the null. "
   ]
  },
  {
   "cell_type": "markdown",
   "id": "9926316d",
   "metadata": {},
   "source": [
    "## Grouped data\n",
    "\n",
    "A very common scenario we should consider is when data is grouped. For example, we have multiple datapoints from the same subjects. \n",
    "\n",
    "Below is the simulation code that generates synthetic data for case when we have multiple datapoints from the same subject. To see if your data is grouped, you can plot a covaraince matrix of your data. \n",
    "\n",
    "Here, we sample from a distribution of estimators of the covariance matrices to reveal the block structure. \n",
    "Here's a breakdown of the sampling process:\n",
    "- `M`: Total number of subjects in the study.\n",
    "- `N`: Total number of measurements across all subjects.\n",
    "- `dim`: Dimensionality of each measurement (e.g., if measurements are scalar, dim=1).\n",
    "- `mean_range`: The range from which each subject's mean measurement value is randomly sampled.\n",
    "- `base_cov`: A covariance matrix that defines how measurements within the same subject may vary around the subject's mean.\n",
    "\n",
    "The process of data simulation involves:\n",
    "1. Generating a specified number of measurements for each subject using a multinomial distribution, ensuring each subject has at least one measurement\n",
    "2. Simulating the actual measurements for each subject based on their unique mean and a structured covariance matrix. This is repeated 1000 times to average out random fluctuations and get a stable estimate of the covariance structure across subjects."
   ]
  },
  {
   "cell_type": "code",
   "execution_count": 9,
   "id": "95d81986",
   "metadata": {},
   "outputs": [],
   "source": [
    "# Example usage\n",
    "M = 10  # Number of subjects\n",
    "N = 100  # Total measurements\n",
    "dim = 1  # Dimensionality of each measurement\n",
    "\n",
    "mean_range = np.array((-5, 0))  # Each subject's mean is sampled from this range\n",
    "base_cov = np.ones((dim, dim))  # Example structured covariance\n",
    "\n",
    "res = 0\n",
    "np.random.seed(SEED)\n",
    "n_measurements_per_subj = stambo.synthetic.generate_n_measurements(M, N, random=True, d_temp=2)\n",
    "\n",
    "# How many times to regenerate the dataset\n",
    "n_samples_cov = 1000\n",
    "for i in range(n_samples_cov):\n",
    "    data, subject_ids, means = stambo.synthetic.generate_subject_measurements(n_measurements_per_subj, mean_range, base_cov)\n",
    "    res += data @ data.T \n",
    "\n",
    "res /= n_samples_cov"
   ]
  },
  {
   "cell_type": "code",
   "execution_count": 10,
   "id": "23e578c9",
   "metadata": {},
   "outputs": [
    {
     "data": {
      "image/png": "[encoded data removed]",
      "text/plain": [
       "<Figure size 400x400 with 1 Axes>"
      ]
     },
     "metadata": {},
     "output_type": "display_data"
    },
    {
     "name": "stdout",
     "output_type": "stream",
     "text": [
      "Data for subject 0: 5\n",
      "Data for subject 1: 11\n",
      "Data for subject 2: 4\n",
      "Data for subject 3: 17\n",
      "Data for subject 4: 18\n",
      "Data for subject 5: 14\n",
      "Data for subject 6: 12\n",
      "Data for subject 7: 11\n",
      "Data for subject 8: 1\n",
      "Data for subject 9: 7\n"
     ]
    }
   ],
   "source": [
    "plt.figure(figsize=(4, 4))\n",
    "plt.imshow(res)\n",
    "plt.title(\"Subject-Level Covariance Structure\")\n",
    "plt.show()\n",
    "\n",
    "for s_id in range(M):\n",
    "    n_per_i = data[subject_ids == s_id].shape[0]\n",
    "    print(f\"Data for subject {s_id}: {n_per_i}\")"
   ]
  },
  {
   "cell_type": "markdown",
   "id": "35d76d15",
   "metadata": {},
   "source": [
    "## Grouped data & paired design\n",
    "\n",
    "Let us now cover another common case: we have a number of subjects with multiple measurements taken before and after treatment. We want to estimat the treatment effect.\n",
    "This case is highly related to comparing two models. Model 1 could be seen as control, and improvements done on it (Model 2) could be seen as treatment. \n",
    "\n",
    "Here, we have developed functionality to generate data from a paired design. We can easily use stamo's API to specify groups. "
   ]
  },
  {
   "cell_type": "code",
   "execution_count": 12,
   "id": "eea162db",
   "metadata": {},
   "outputs": [],
   "source": [
    "paired_data, s_ids_paired = stambo.synthetic.generate_paired_data(n_subjects=3, n_measurements=40, effect_size=0.5, dim=1, mean_range=(0, 0.5), seed=SEED)"
   ]
  },
  {
   "cell_type": "code",
   "execution_count": 15,
   "id": "08f27af5",
   "metadata": {},
   "outputs": [
    {
     "data": {
      "image/png": "[encoded data removed]",
      "text/plain": [
       "<Figure size 600x200 with 1 Axes>"
      ]
     },
     "metadata": {},
     "output_type": "display_data"
    }
   ],
   "source": [
    "plt.figure(figsize=(6, 2))\n",
    "plt.hist(paired_data[:, 0], label=\"Control\", color=\"blue\", alpha=0.5)\n",
    "plt.hist(paired_data[:, 1], label=\"Treatment\", color=\"red\", alpha=0.5)\n",
    "plt.legend()\n",
    "plt.show()\n"
   ]
  },
  {
   "cell_type": "markdown",
   "id": "1cc63ee0",
   "metadata": {},
   "source": [
    "Let us now first run the test without specifying the groups. "
   ]
  },
  {
   "cell_type": "code",
   "execution_count": 16,
   "id": "b9975d69",
   "metadata": {},
   "outputs": [
    {
     "name": "stderr",
     "output_type": "stream",
     "text": [
      "Bootstrapping: 100%|██████████| 10000/10000 [00:00<00:00, 56692.27it/s]"
     ]
    },
    {
     "name": "stdout",
     "output_type": "stream",
     "text": [
      "% \\usepackage{booktabs} <-- do not forget to have this imported. \n",
      "\\begin{tabular}{ll} \\\\ \n",
      "\\toprule \n",
      "\\textbf{Model} & \\textbf{Mean} \\\\ \n",
      "\\midrule \n",
      "Control & $0.36$ [$-0.10$-$0.83$] \\\\ \n",
      "Treatment & $0.82$ [$0.46$-$1.21$] \\\\ \n",
      "\\midrule\n",
      "Effect size & $0.46$ [$-0.07$-$1.00]$ \\\\ \n",
      "\\midrule\n",
      "$p$-value & $0.09$ \\\\ \n",
      "\\bottomrule\n",
      "\\end{tabular}\n"
     ]
    },
    {
     "name": "stderr",
     "output_type": "stream",
     "text": [
      "\n"
     ]
    }
   ],
   "source": [
    "res = stambo.two_sample_test(paired_data[:, 0], paired_data[:, 1], statistics={\"Mean\": lambda x: x.mean()}, seed=SEED)\n",
    "print(stambo.to_latex(res, m1_name=\"Control\", m2_name=\"Treatment\"))"
   ]
  },
  {
   "cell_type": "markdown",
   "id": "cd1bb815",
   "metadata": {},
   "source": [
    "What we can se above, is that the test does not detect an effect and the 95% on the effect size are very wide."
   ]
  },
  {
   "cell_type": "code",
   "execution_count": 17,
   "id": "9b314b2a",
   "metadata": {},
   "outputs": [
    {
     "name": "stderr",
     "output_type": "stream",
     "text": [
      "Bootstrapping: 100%|██████████| 10000/10000 [00:00<00:00, 53286.45it/s]"
     ]
    },
    {
     "name": "stdout",
     "output_type": "stream",
     "text": [
      "% \\usepackage{booktabs} <-- do not forget to have this imported. \n",
      "\\begin{tabular}{ll} \\\\ \n",
      "\\toprule \n",
      "\\textbf{Model} & \\textbf{Mean} \\\\ \n",
      "\\midrule \n",
      "Control & $0.3640$ [$0.2471$-$0.5008$] \\\\ \n",
      "Treatment & $0.8246$ [$0.7465$-$0.9272$] \\\\ \n",
      "\\midrule\n",
      "Effect size & $0.4607$ [$0.3419$-$0.5721]$ \\\\ \n",
      "\\midrule\n",
      "$p$-value & $0.0002$ \\\\ \n",
      "\\bottomrule\n",
      "\\end{tabular}\n"
     ]
    },
    {
     "name": "stderr",
     "output_type": "stream",
     "text": [
      "\n"
     ]
    }
   ],
   "source": [
    "res = stambo.two_sample_test(paired_data[:, 0], paired_data[:, 1], statistics={\"Mean\": lambda x: x.mean()}, groups=s_ids_paired, seed=SEED)\n",
    "# Let us add more digits to see the p-value clearer\n",
    "print(stambo.to_latex(res, m1_name=\"Control\", m2_name=\"Treatment\", n_digits=4))"
   ]
  },
  {
   "cell_type": "markdown",
   "id": "af621ba3",
   "metadata": {},
   "source": [
    "Once we have specified the groups, we get very tight 95% CIs around the true effect (0.5), showing that it is really positive. Moreover, we are able to reject the null, since our bootstrap procedure closely resembles the data generating process. "
   ]
  }
 ],
 "metadata": {
  "kernelspec": {
   "display_name": "stambo",
   "language": "python",
   "name": "python3"
  },
  "language_info": {
   "codemirror_mode": {
    "name": "ipython",
    "version": 3
   },
   "file_extension": ".py",
   "mimetype": "text/x-python",
   "name": "python",
   "nbconvert_exporter": "python",
   "pygments_lexer": "ipython3",
   "version": "3.12.8"
  }
 },
 "nbformat": 4,
 "nbformat_minor": 5
}
